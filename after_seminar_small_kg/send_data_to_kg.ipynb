{
 "cells": [
  {
   "cell_type": "code",
   "execution_count": 1,
   "metadata": {},
   "outputs": [],
   "source": [
    "from neo4j import GraphDatabase\n",
    "import os\n",
    "import json\n",
    "from langchain_openai import ChatOpenAI"
   ]
  },
  {
   "cell_type": "code",
   "execution_count": null,
   "metadata": {},
   "outputs": [],
   "source": [
    "uri = os.environ[\"NEO4J_URI\"]\n",
    "user=os.environ[\"NEO4J_USERNAME\"]\n",
    "password = os.environ[\"NEO4J_PASSWORD\"]\n",
    "OPENAI_API_KEY = os.environ[\"OPENAI_API_KEY\"] \n",
    "\n",
    "driver = GraphDatabase.driver(uri, auth=(user, password))\n",
    "llm = ChatOpenAI(temperature=0, model_name=\"gpt-4o\", api_key=OPENAI_API_KEY)"
   ]
  },
  {
   "cell_type": "code",
   "execution_count": null,
   "metadata": {},
   "outputs": [],
   "source": []
  },
  {
   "cell_type": "code",
   "execution_count": 4,
   "metadata": {},
   "outputs": [
    {
     "name": "stderr",
     "output_type": "stream",
     "text": [
      "/tmp/ipykernel_3617967/4259445465.py:2: LangChainDeprecationWarning: The class `OpenAIEmbeddings` was deprecated in LangChain 0.0.9 and will be removed in 1.0. An updated version of the class exists in the :class:`~langchain-openai package and should be used instead. To use it run `pip install -U :class:`~langchain-openai` and import as `from :class:`~langchain_openai import OpenAIEmbeddings``.\n",
      "  embedder = OpenAIEmbeddings(openai_api_key=OPENAI_API_KEY)  # or your desired model\n"
     ]
    }
   ],
   "source": [
    "from langchain.embeddings import OpenAIEmbeddings\n",
    "embedder = OpenAIEmbeddings(openai_api_key=OPENAI_API_KEY)  # or your desired model\n",
    "\n"
   ]
  },
  {
   "cell_type": "code",
   "execution_count": 5,
   "metadata": {},
   "outputs": [],
   "source": [
    "# Function to load JSON data\n",
    "def load_knowledge_graph(json_file_path):\n",
    "    with open(json_file_path, 'r') as file:\n",
    "        return json.load(file)"
   ]
  },
  {
   "cell_type": "code",
   "execution_count": 6,
   "metadata": {},
   "outputs": [],
   "source": [
    "# def create_node(tx, node):\n",
    "#     attributes = node.get(\"attributes\", {})\n",
    "#     attributes_str = \", \".join([f\"{key}: ${key}\" for key in attributes.keys()])\n",
    "#     label = f\"`{node['label'].replace(' ', '_').replace('-', '_')}`\"  # Replace spaces and dashes\n",
    "#     query = f\"\"\"\n",
    "#     MERGE (n:{label} {{id: $id}})\n",
    "#     SET n += {{{attributes_str}}}\n",
    "#     \"\"\"\n",
    "#     tx.run(query, id=node[\"id\"], **attributes)\n",
    "\n",
    "# def create_node(tx, node):\n",
    "#     attributes = node.get(\"attributes\", {})\n",
    "#     attributes[\"documentId\"] = node.get(\"documentId\")  # Include top-level documentId into attributes\n",
    "\n",
    "#     # Safely escape property keys using backticks\n",
    "#     attributes_str = \", \".join([f\"`{key}`: ${key}\" for key in attributes.keys()])\n",
    "#     label = f\"`{node['label'].replace(' ', '_').replace('-', '_')}`\"\n",
    "\n",
    "#     query = f\"\"\"\n",
    "#     MERGE (n:{label} {{id: $id}})\n",
    "#     SET n += {{{attributes_str}}}\n",
    "#     \"\"\"\n",
    "#     tx.run(query, id=node[\"id\"], **attributes)\n",
    "    \n",
    "def create_node(tx, node):\n",
    "    attributes = node.get(\"attributes\", {})\n",
    "    attributes[\"documentId\"] = node.get(\"documentId\")  # Ensure documentId is present\n",
    "\n",
    "    # ✅ Choose meaningful text for embedding — fallback to ID if name/description not present\n",
    "    text_for_embedding = attributes.get(\"name\") or attributes.get(\"description\") or node.get(\"id\")\n",
    "    if text_for_embedding:\n",
    "        embedding_vector = embedder.embed_query(text_for_embedding)\n",
    "        attributes[\"embedding\"] = embedding_vector  # Add embedding to attributes\n",
    "\n",
    "    # ✅ Prepare Cypher-safe property keys\n",
    "    attributes_str = \", \".join([f\"`{key}`: ${key}\" for key in attributes.keys()])\n",
    "    label = f\"`{node['label'].replace(' ', '_').replace('-', '_')}`\"\n",
    "\n",
    "    query = f\"\"\"\n",
    "    MERGE (n:{label} {{id: $id}})\n",
    "    SET n += {{{attributes_str}}}\n",
    "    \"\"\"\n",
    "    tx.run(query, id=node[\"id\"], **attributes)\n",
    "\n",
    "\n",
    "\n"
   ]
  },
  {
   "cell_type": "code",
   "execution_count": 7,
   "metadata": {},
   "outputs": [],
   "source": [
    "# def create_relationship(tx, relationship):\n",
    "#     # Ensure 'type' key exists in the relationship\n",
    "#     if \"type\" not in relationship:\n",
    "#         print(f\"Skipping relationship due to missing 'type': {relationship}\")\n",
    "#         return  # Skip this relationship\n",
    "\n",
    "#     attributes = relationship.get(\"attributes\", {})\n",
    "#     attributes_str = \", \".join([f\"{key}: ${key}\" for key in attributes.keys()])\n",
    "#     rel_type = f\"`{relationship['type'].replace(' ', '_').replace('-', '_')}`\"  # Replace spaces and dashes\n",
    "#     query = f\"\"\"\n",
    "#     MATCH (a {{id: $source}}), (b {{id: $target}})\n",
    "#     MERGE (a)-[r:{rel_type}]->(b)\n",
    "#     {\"SET r += {\" + attributes_str + \"}\" if attributes_str else \"\"}\n",
    "#     \"\"\"\n",
    "#     # Ensure 'source' and 'target' exist before running the query\n",
    "#     if \"source\" not in relationship or \"target\" not in relationship:\n",
    "#         print(f\"Skipping relationship due to missing 'source' or 'target': {relationship}\")\n",
    "#         return  # Skip this relationship\n",
    "\n",
    "#     tx.run(query, source=relationship[\"source\"], target=relationship[\"target\"], **attributes)\n",
    "\n",
    "def create_relationship(tx, relationship):\n",
    "    if \"type\" not in relationship or \"source\" not in relationship or \"target\" not in relationship:\n",
    "        print(f\"Skipping relationship due to missing fields: {relationship}\")\n",
    "        return\n",
    "\n",
    "    attributes = relationship.get(\"attributes\", {})\n",
    "    attributes[\"documentId\"] = relationship.get(\"documentId\")  # Include top-level documentId into attributes\n",
    "\n",
    "    attributes_str = \", \".join([f\"{key}: ${key}\" for key in attributes.keys()])\n",
    "    rel_type = f\"`{relationship['type'].replace(' ', '_').replace('-', '_')}`\"\n",
    "\n",
    "    query = f\"\"\"\n",
    "    MATCH (a {{id: $source}}), (b {{id: $target}})\n",
    "    MERGE (a)-[r:{rel_type}]->(b)\n",
    "    {\"SET r += {\" + attributes_str + \"}\" if attributes_str else \"\"}\n",
    "    \"\"\"\n",
    "    tx.run(query, source=relationship[\"source\"], target=relationship[\"target\"], **attributes)\n"
   ]
  },
  {
   "cell_type": "code",
   "execution_count": 8,
   "metadata": {},
   "outputs": [],
   "source": [
    "def store_knowledge_graph(driver, graph):\n",
    "    with driver.session() as session:\n",
    "        for node in graph[\"nodes\"]:\n",
    "            if \"id\" not in node or \"label\" not in node:\n",
    "                print(f\"[WARNING] Skipping node with missing 'id' or 'label': {node}\")\n",
    "                continue\n",
    "            session.write_transaction(create_node, node)\n",
    "\n",
    "        for relationship in graph[\"relationships\"]:\n",
    "            session.write_transaction(create_relationship, relationship)\n"
   ]
  },
  {
   "cell_type": "code",
   "execution_count": 9,
   "metadata": {},
   "outputs": [
    {
     "name": "stderr",
     "output_type": "stream",
     "text": [
      "/tmp/ipykernel_3617967/1101572974.py:7: DeprecationWarning: write_transaction has been renamed to execute_write\n",
      "  session.write_transaction(create_node, node)\n"
     ]
    },
    {
     "name": "stderr",
     "output_type": "stream",
     "text": [
      "/tmp/ipykernel_3617967/1101572974.py:10: DeprecationWarning: write_transaction has been renamed to execute_write\n",
      "  session.write_transaction(create_relationship, relationship)\n"
     ]
    },
    {
     "name": "stdout",
     "output_type": "stream",
     "text": [
      "Knowledge graph stored in Neo4j successfully!\n"
     ]
    }
   ],
   "source": [
    "# Load the knowledge graph data from a JSON file\n",
    "json_file_path = \"/home/sbhavsar/PoisonedRAG/after_seminar_small_kg/jsons/updated_output_file.json\"  # Path to your JSON file\n",
    "with open(json_file_path, \"r\") as file:\n",
    "    knowledge_graph = json.load(file)\n",
    "\n",
    "# Store the knowledge graph in Neo4j\n",
    "try:\n",
    "    store_knowledge_graph(driver, knowledge_graph)\n",
    "    print(\"Knowledge graph stored in Neo4j successfully!\")\n",
    "finally:\n",
    "    driver.close()"
   ]
  },
  {
   "cell_type": "code",
   "execution_count": 10,
   "metadata": {},
   "outputs": [],
   "source": [
    "def get_all_node_labels():\n",
    "    with driver.session() as session:\n",
    "        result = session.run(\"CALL db.labels()\")\n",
    "        return [record[\"label\"] for record in result]"
   ]
  },
  {
   "cell_type": "code",
   "execution_count": 11,
   "metadata": {},
   "outputs": [
    {
     "name": "stderr",
     "output_type": "stream",
     "text": [
      "/tmp/ipykernel_3617967/522634782.py:2: DeprecationWarning: Using a driver after it has been closed is deprecated. Future versions of the driver will raise an error.\n",
      "  with driver.session() as session:\n"
     ]
    },
    {
     "name": "stdout",
     "output_type": "stream",
     "text": [
      "Node Labels: ['song', 'person', 'film', 'group', 'television_series', 'event', 'organization', 'agreement', 'project', 'country', 'place', 'financial_concept', 'standard', 'regulation', 'character', 'work', 'album', 'religion', 'artifact', 'concept', 'economic_system', 'brand', 'social_campaign', 'treaty', 'disease', 'organizational_group', 'legal_system', 'economic_policy', 'mythical_creature', 'award', 'television_program', 'game', 'chart', 'political_position', 'molecule', 'enzyme', 'cellular_structure', 'protein_complex', 'advertisement', 'anatomical_structure', 'medical_procedure', 'social_trend', 'cultural_belief', 'restaurant', 'artist', 'ship', 'plant', 'attraction', 'ritual', 'element', 'organism']\n"
     ]
    }
   ],
   "source": [
    "# Example usage\n",
    "labels = get_all_node_labels()\n",
    "print(\"Node Labels:\", labels)"
   ]
  },
  {
   "cell_type": "code",
   "execution_count": null,
   "metadata": {},
   "outputs": [],
   "source": []
  }
 ],
 "metadata": {
  "kernelspec": {
   "display_name": "poisonedRAG",
   "language": "python",
   "name": "python3"
  },
  "language_info": {
   "codemirror_mode": {
    "name": "ipython",
    "version": 3
   },
   "file_extension": ".py",
   "mimetype": "text/x-python",
   "name": "python",
   "nbconvert_exporter": "python",
   "pygments_lexer": "ipython3",
   "version": "3.10.15"
  }
 },
 "nbformat": 4,
 "nbformat_minor": 2
}
